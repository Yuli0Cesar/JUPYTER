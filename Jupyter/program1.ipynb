{
 "cells": [
  {
   "cell_type": "markdown",
   "metadata": {
    "vscode": {
     "languageId": "julia"
    }
   },
   "source": [
    "<h1>DOCUMENTACION DE JULIA</h1>"
   ]
  },
  {
   "cell_type": "markdown",
   "metadata": {},
   "source": [
    "<h6>JULIO RODRIGUEZ 31075856<br>\n",
    "LUIS CHIRIVELLA 30604386</h6>"
   ]
  },
  {
   "cell_type": "markdown",
   "metadata": {},
   "source": [
    "#DEFINICION DE VARIABLES EN JULIA"
   ]
  },
  {
   "cell_type": "code",
   "execution_count": 1,
   "metadata": {},
   "outputs": [
    {
     "data": {
      "text/plain": [
       "\"Hello world\""
      ]
     },
     "metadata": {},
     "output_type": "display_data"
    }
   ],
   "source": [
    "x=10\n",
    "y=1\n",
    "c=\"Hello world\""
   ]
  },
  {
   "cell_type": "markdown",
   "metadata": {},
   "source": [
    "#ENTRADA Y SALIDA DE DATOS (Ejemplo)"
   ]
  },
  {
   "cell_type": "code",
   "execution_count": 2,
   "metadata": {},
   "outputs": [
    {
     "name": "stdout",
     "output_type": "stream",
     "text": [
      "¿Cuál es tu nombre? "
     ]
    },
    {
     "ename": "UndefVarError",
     "evalue": "UndefVarError: `execute_msg` not defined",
     "output_type": "error",
     "traceback": [
      "UndefVarError: `execute_msg` not defined\n",
      "\n",
      "Stacktrace:\n",
      " [1] readprompt(prompt::String; password::Bool)\n",
      "   @ VSCodeServer.IJuliaCore c:\\Users\\Usuario\\.vscode\\extensions\\julialang.language-julia-1.79.2\\scripts\\packages\\IJuliaCore\\src\\stdio.jl:190\n",
      " [2] readprompt\n",
      "   @ c:\\Users\\Usuario\\.vscode\\extensions\\julialang.language-julia-1.79.2\\scripts\\packages\\IJuliaCore\\src\\stdio.jl:188 [inlined]\n",
      " [3] readline(io::VSCodeServer.IJuliaCore.IJuliaStdio{Base.PipeEndpoint, typeof(VSCodeServer.io_send_callback)})\n",
      "   @ VSCodeServer.IJuliaCore c:\\Users\\Usuario\\.vscode\\extensions\\julialang.language-julia-1.79.2\\scripts\\packages\\IJuliaCore\\src\\stdio.jl:232\n",
      " [4] readline()\n",
      "   @ Base .\\io.jl:560\n",
      " [5] top-level scope\n",
      "   @ c:\\Users\\Usuario\\Desktop\\Jupyter\\program1.ipynb:3"
     ]
    }
   ],
   "source": [
    "print(\"¿Cuál es tu nombre? \")\n",
    "# print muestra el texto por consola\n",
    "name = readline()\n",
    "# readline() para obtener una línea de texto del usuario\n",
    "println(\"El nombre es \", name)\n",
    "# println imprime el texto por consola con un salto de linea"
   ]
  },
  {
   "cell_type": "markdown",
   "metadata": {},
   "source": [
    "#Arrays"
   ]
  },
  {
   "cell_type": "code",
   "execution_count": 3,
   "metadata": {},
   "outputs": [
    {
     "data": {
      "text/plain": [
       "42"
      ]
     },
     "metadata": {},
     "output_type": "display_data"
    }
   ],
   "source": [
    "a = [1,2,3]\n",
    "\n",
    "a[1]=42"
   ]
  },
  {
   "cell_type": "markdown",
   "metadata": {},
   "source": [
    "#OPERADORES ARIGMETICOS"
   ]
  },
  {
   "cell_type": "code",
   "execution_count": 4,
   "metadata": {},
   "outputs": [
    {
     "ename": "Base.Meta.ParseError",
     "evalue": "ParseError:\n# Error @ c:\\Users\\Usuario\\Desktop\\Jupyter\\program1.ipynb:1:3\n+x (Identacion)\r\n# ╙ ── whitespace is not allowed here",
     "output_type": "error",
     "traceback": [
      "ParseError:\n",
      "# Error @ c:\\Users\\Usuario\\Desktop\\Jupyter\\program1.ipynb:1:3\n",
      "+x (Identacion)\r\n",
      "# ╙ ── whitespace is not allowed here\n",
      "\n",
      "Stacktrace:\n",
      " [1] top-level scope\n",
      "   @ c:\\Users\\Usuario\\Desktop\\Jupyter\\program1.ipynb:1"
     ]
    }
   ],
   "source": [
    "+x (Identacion)\n",
    "-x (Asigna valores a su inverso aditivo)\n",
    "x+y (Adicion)\n",
    "x-y (Sustraccion)\n",
    "x*y (Multiplicacion)\n",
    "x/y (Division)\n",
    "x÷y (Truncado a un numero entero)\n",
    "x\\y (Equivalente a y/x)\n",
    "x^y (potencia)\n",
    "x%y (resto)"
   ]
  },
  {
   "cell_type": "markdown",
   "metadata": {},
   "source": [
    "#OPERADORES BOOLEANOS"
   ]
  },
  {
   "cell_type": "code",
   "execution_count": 5,
   "metadata": {},
   "outputs": [
    {
     "ename": "Base.Meta.ParseError",
     "evalue": "ParseError:\n# Error @ c:\\Users\\Usuario\\Desktop\\Jupyter\\program1.ipynb:1:3\n!X (Negacion)\r\n# ╙ ── whitespace is not allowed here",
     "output_type": "error",
     "traceback": [
      "ParseError:\n",
      "# Error @ c:\\Users\\Usuario\\Desktop\\Jupyter\\program1.ipynb:1:3\n",
      "!X (Negacion)\r\n",
      "# ╙ ── whitespace is not allowed here\n",
      "\n",
      "Stacktrace:\n",
      " [1] top-level scope\n",
      "   @ c:\\Users\\Usuario\\Desktop\\Jupyter\\program1.ipynb:1"
     ]
    }
   ],
   "source": [
    "!X (Negacion)\n",
    "x && y (AND)\n",
    "x || y (OR)"
   ]
  },
  {
   "cell_type": "markdown",
   "metadata": {},
   "source": [
    "#Operaciones matematicas y Funciones primarias"
   ]
  },
  {
   "cell_type": "code",
   "execution_count": 6,
   "metadata": {},
   "outputs": [
    {
     "ename": "Base.Meta.ParseError",
     "evalue": "ParseError:\n# Error @ c:\\Users\\Usuario\\Desktop\\Jupyter\\program1.ipynb:1:3\n~x (Bitwise not)\r\n# ╙ ── whitespace is not allowed here",
     "output_type": "error",
     "traceback": [
      "ParseError:\n",
      "# Error @ c:\\Users\\Usuario\\Desktop\\Jupyter\\program1.ipynb:1:3\n",
      "~x (Bitwise not)\r\n",
      "# ╙ ── whitespace is not allowed here\n",
      "\n",
      "Stacktrace:\n",
      " [1] top-level scope\n",
      "   @ c:\\Users\\Usuario\\Desktop\\Jupyter\\program1.ipynb:1"
     ]
    }
   ],
   "source": [
    "~x (Bitwise not)\n",
    "x & y (Bitwise and)\n",
    "x | y (Bitwise or)\n",
    "x v_ y (Bitwise xor)\n",
    "x    y (Bitwise nand not and)\n",
    "x    y (Bitwise nor not or)\n",
    "x >>> y (Logical shift right)\n",
    "x >> y (Arithmetic shift right)\n",
    "x << y (logical/arithmetic shift left)"
   ]
  },
  {
   "cell_type": "markdown",
   "metadata": {},
   "source": [
    "#Comparadores numericos"
   ]
  },
  {
   "cell_type": "code",
   "execution_count": 7,
   "metadata": {},
   "outputs": [
    {
     "ename": "Base.Meta.ParseError",
     "evalue": "ParseError:\n# Error @ c:\\Users\\Usuario\\Desktop\\Jupyter\\program1.ipynb:1:3\n== (Igualdad)\r\n# ╙ ── whitespace is not allowed here",
     "output_type": "error",
     "traceback": [
      "ParseError:\n",
      "# Error @ c:\\Users\\Usuario\\Desktop\\Jupyter\\program1.ipynb:1:3\n",
      "== (Igualdad)\r\n",
      "# ╙ ── whitespace is not allowed here\n",
      "\n",
      "Stacktrace:\n",
      " [1] top-level scope\n",
      "   @ c:\\Users\\Usuario\\Desktop\\Jupyter\\program1.ipynb:1"
     ]
    }
   ],
   "source": [
    "== (Igualdad)\n",
    "!= (Desigualdad)\n",
    "< (Menor que)\n",
    "<= (Menor o igual que)\n",
    "> (Mayor que)\n",
    ">= (Mayor o igual que)"
   ]
  },
  {
   "cell_type": "markdown",
   "metadata": {},
   "source": [
    "#Funciones de redondeo"
   ]
  },
  {
   "cell_type": "code",
   "execution_count": 8,
   "metadata": {},
   "outputs": [
    {
     "ename": "UndefVarError",
     "evalue": "UndefVarError: `T` not defined",
     "output_type": "error",
     "traceback": [
      "UndefVarError: `T` not defined\n",
      "\n",
      "Stacktrace:\n",
      " [1] top-level scope\n",
      "   @ c:\\Users\\Usuario\\Desktop\\Jupyter\\program1.ipynb:2"
     ]
    }
   ],
   "source": [
    "round(x) #Redondea x al entero mas cercano\n",
    "round(T, x) #Redondea x al entero mas cercano (Return Type T)\n",
    "floor(x) #Redondea x hacia abajo\n",
    "floor(T, x) #Redondea x hacia abajo (Return Type T)\n",
    "ceil(x) #Redondea x hacia arriba\n",
    "ceil(T, x) #Redondea x hacia arriba (Return Type T)\n",
    "trunc(x) #Redondea x hacia cero\n",
    "trunc(T, x) #Redondea x hacia cero (Return Type T)"
   ]
  },
  {
   "cell_type": "markdown",
   "metadata": {},
   "source": [
    "#Condicionales (Ejemplo)"
   ]
  },
  {
   "cell_type": "code",
   "execution_count": 9,
   "metadata": {},
   "outputs": [
    {
     "name": "stdout",
     "output_type": "stream",
     "text": [
      "x is greater than y\n"
     ]
    }
   ],
   "source": [
    "if x < y\n",
    "    println(\"x is less than y\")\n",
    "elseif x > y\n",
    "    println(\"x is greater than y\")\n",
    "else\n",
    "    println(\"x is equal to y\")\n",
    "end"
   ]
  },
  {
   "cell_type": "markdown",
   "metadata": {},
   "source": [
    "#Funcion con Condicionales (Ejemplo)"
   ]
  },
  {
   "cell_type": "code",
   "execution_count": 10,
   "metadata": {},
   "outputs": [
    {
     "name": "stdout",
     "output_type": "stream",
     "text": [
      "x is less than y\n",
      "x is greater than y\n",
      "x is equal to y\n"
     ]
    }
   ],
   "source": [
    "function test(x, y)\n",
    "    if x < y\n",
    "        println(\"x is less than y\")\n",
    "    elseif x > y\n",
    "        println(\"x is greater than y\")\n",
    "    else\n",
    "        println(\"x is equal to y\")\n",
    "    end\n",
    "end\n",
    "\n",
    "test(1,2)\n",
    "test(2,1)\n",
    "test(1,1)"
   ]
  },
  {
   "cell_type": "markdown",
   "metadata": {},
   "source": [
    "#Ciclo while (Ejemplo)"
   ]
  },
  {
   "cell_type": "code",
   "execution_count": 11,
   "metadata": {},
   "outputs": [
    {
     "ename": "UndefVarError",
     "evalue": "UndefVarError: `i` not defined",
     "output_type": "error",
     "traceback": [
      "UndefVarError: `i` not defined\n",
      "\n",
      "Stacktrace:\n",
      " [1] top-level scope\n",
      "   @ c:\\Users\\Usuario\\Desktop\\Jupyter\\program1.ipynb:1"
     ]
    }
   ],
   "source": [
    "i = 0\n",
    "while i <= 3\n",
    "    println(i)\n",
    "    global i += 1\n",
    "end"
   ]
  },
  {
   "cell_type": "markdown",
   "metadata": {},
   "source": [
    "#Ciclo for (Ejemplo)"
   ]
  },
  {
   "cell_type": "code",
   "execution_count": 12,
   "metadata": {},
   "outputs": [
    {
     "name": "stdout",
     "output_type": "stream",
     "text": [
      "1\n",
      "2\n",
      "3\n"
     ]
    }
   ],
   "source": [
    "for i = 1:3\n",
    "    println(i)\n",
    "end\n",
    "\n",
    "#Tambien existe la instruccion break y continue"
   ]
  }
 ],
 "metadata": {
  "kernelspec": {
   "display_name": "Julia 1.10.3",
   "language": "julia",
   "name": "julia-1.10"
  },
  "language_info": {
   "file_extension": ".jl",
   "mimetype": "application/julia",
   "name": "julia",
   "version": "1.10.3"
  }
 },
 "nbformat": 4,
 "nbformat_minor": 2
}
